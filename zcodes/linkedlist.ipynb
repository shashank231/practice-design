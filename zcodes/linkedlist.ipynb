{
 "cells": [
  {
   "attachments": {},
   "cell_type": "markdown",
   "metadata": {},
   "source": [
    "Node for Linked List"
   ]
  },
  {
   "cell_type": "code",
   "execution_count": 2,
   "metadata": {},
   "outputs": [],
   "source": [
    "class node:  \n",
    "    def __init__(self, data):\n",
    "        self.data = data\n",
    "        self.next = None"
   ]
  },
  {
   "cell_type": "code",
   "execution_count": 3,
   "metadata": {},
   "outputs": [],
   "source": [
    "def prt_ll(head):\n",
    "    curr = head \n",
    "    while (curr.next!=None):\n",
    "        print(curr.data, end=\"->\")\n",
    "        curr = curr.next\n",
    "    print(curr.data, end=\"->None\\n\")"
   ]
  },
  {
   "cell_type": "code",
   "execution_count": 4,
   "metadata": {},
   "outputs": [],
   "source": [
    "\n",
    "def list_to_ll(arr):\n",
    "    if not arr:\n",
    "        return -1\n",
    "    head = node(arr[0])\n",
    "    curr = head\n",
    "    for i in range(1, len(arr)):\n",
    "        new_node = node(arr[i])\n",
    "        curr.next = new_node\n",
    "        curr = new_node\n",
    "    return head"
   ]
  },
  {
   "cell_type": "code",
   "execution_count": 5,
   "metadata": {},
   "outputs": [],
   "source": [
    "\n",
    "def pop_index(arr, index):\n",
    "    head_arr, len_arr = list_to_ll(arr), len(arr)\n",
    "    last_index = len_arr-1\n",
    "    curr = head_arr\n",
    "    go_to_index = index-1\n",
    "\n",
    "    if (index > last_index):\n",
    "        return -1\n",
    "    \n",
    "    if go_to_index == -1:\n",
    "        head_arr = head_arr.next\n",
    "        prt_ll(head_arr)\n",
    "        return\n",
    "\n",
    "    while go_to_index != 0:\n",
    "        curr = curr.next\n",
    "        go_to_index = go_to_index - 1\n",
    "\n",
    "    if index==last_index:\n",
    "        curr.next = None\n",
    "    else:\n",
    "        curr.next = curr.next.next\n",
    "    prt_ll(head_arr)"
   ]
  },
  {
   "cell_type": "code",
   "execution_count": 6,
   "metadata": {},
   "outputs": [],
   "source": [
    "def append_at_end_in_ll(head, val):\n",
    "    curr = head\n",
    "    while (curr.next is not None):\n",
    "        curr = curr.next\n",
    "    val_node = node(val)\n",
    "    curr.next = val_node\n",
    "    prt_ll(head)\n"
   ]
  },
  {
   "cell_type": "code",
   "execution_count": 7,
   "metadata": {},
   "outputs": [],
   "source": [
    "\n",
    "def go_to_ind_ll(hd, ind1):\n",
    "    \"\"\"\n",
    "    as maine test kia ye ll, ke index ind1 par jaega \n",
    "    \"\"\"\n",
    "    curr = hd\n",
    "    ind = ind1\n",
    "    while(ind > 0):\n",
    "        curr = curr.next\n",
    "        ind = ind-1\n",
    "    print(curr.data)\n",
    "    return curr"
   ]
  },
  {
   "cell_type": "code",
   "execution_count": 8,
   "metadata": {},
   "outputs": [],
   "source": [
    "\n",
    "def reverse_ll(head):\n",
    "    curr = head\n",
    "    c1 = curr\n",
    "    c2 = curr.next\n",
    "    c3 = curr.next.next\n",
    "    \n",
    "    c1.next = None\n",
    "    while (c3 is not None):\n",
    "        c2.next = c1\n",
    "        c1 = c2\n",
    "        c2 = c3\n",
    "        c3 = c3.next\n",
    "    \n",
    "    c2.next = c1\n",
    "    prt_ll(c2)\n",
    "    return c2"
   ]
  },
  {
   "cell_type": "code",
   "execution_count": 9,
   "metadata": {},
   "outputs": [],
   "source": [
    "\n",
    "def reverse_specific_portion_of_ll(head, start, end):\n",
    "\n",
    "    curr1 = head\n",
    "    ind1 = start-1\n",
    "    while(ind1 > 0):\n",
    "        curr1 = curr1.next\n",
    "        ind1 = ind1-1\n",
    "    \n",
    "    curr2 = head\n",
    "    ind2 = end\n",
    "    while(ind2 > 0):\n",
    "        curr2 = curr2.next\n",
    "        ind2 = ind2-1\n",
    "    \n",
    "    curr3 = curr2.next\n",
    "    curr4 = curr1.next \n",
    "\n",
    "    curr1.next = None\n",
    "    curr2.next = None\n",
    "\n",
    "    hd1 = reverse_ll(curr4)\n",
    "    curr4.next = curr3\n",
    "    curr1.next = hd1\n",
    "    prt_ll(head)    \n",
    "    return head\n"
   ]
  },
  {
   "cell_type": "code",
   "execution_count": 10,
   "metadata": {},
   "outputs": [
    {
     "name": "stdout",
     "output_type": "stream",
     "text": [
      "7->6->5->4->3->None\n",
      "1->2->7->6->5->4->3->8->9->10->None\n"
     ]
    },
    {
     "data": {
      "text/plain": [
       "<__main__.node at 0x1d870bd15d0>"
      ]
     },
     "execution_count": 10,
     "metadata": {},
     "output_type": "execute_result"
    }
   ],
   "source": [
    "\n",
    "arr = [1, 2, 3, 4, 5, 6, 7, 8, 9, 10]\n",
    "hd = list_to_ll(arr)\n",
    "reverse_specific_portion_of_ll(hd, 2, 6)\n",
    "\n"
   ]
  }
 ],
 "metadata": {
  "kernelspec": {
   "display_name": "Python 3",
   "language": "python",
   "name": "python3"
  },
  "language_info": {
   "codemirror_mode": {
    "name": "ipython",
    "version": 3
   },
   "file_extension": ".py",
   "mimetype": "text/x-python",
   "name": "python",
   "nbconvert_exporter": "python",
   "pygments_lexer": "ipython3",
   "version": "3.10.7"
  },
  "orig_nbformat": 4
 },
 "nbformat": 4,
 "nbformat_minor": 2
}
